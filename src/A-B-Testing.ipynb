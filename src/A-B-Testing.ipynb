{
 "cells": [
  {
   "cell_type": "code",
   "execution_count": 1,
   "id": "ba8643fc",
   "metadata": {},
   "outputs": [],
   "source": [
    "import pandas as pd\n",
    "import scipy.stats as stats\n",
    "from scipy import stats\n",
    "import matplotlib.pyplot as plt\n",
    "from sklearn.linear_model import LogisticRegression\n",
    "from sklearn.preprocessing import LabelEncoder\n",
    "import os"
   ]
  },
  {
   "cell_type": "markdown",
   "id": "7284520b",
   "metadata": {},
   "source": [
    "### Data Loading and Caching\n",
    "- Caching optimizes the loading of the dataset by checking if a cached version exists. If so, it loads it; otherwise, it reads from the CSV and caches it."
   ]
  },
  {
   "cell_type": "code",
   "execution_count": 2,
   "id": "18cd85a5",
   "metadata": {},
   "outputs": [
    {
     "name": "stdout",
     "output_type": "stream",
     "text": [
      "Loading from cached Pickle file...\n",
      "   Unnamed: 0  user id test group  converted  total ads most ads day  \\\n",
      "0           0  1069124         ad      False        130       Monday   \n",
      "1           1  1119715         ad      False         93      Tuesday   \n",
      "2           2  1144181         ad      False         21      Tuesday   \n",
      "3           3  1435133         ad      False        355      Tuesday   \n",
      "4           4  1015700         ad      False        276       Friday   \n",
      "\n",
      "   most ads hour  \n",
      "0             20  \n",
      "1             22  \n",
      "2             18  \n",
      "3             10  \n",
      "4             14  \n"
     ]
    },
    {
     "data": {
      "text/plain": [
       "(588101, 7)"
      ]
     },
     "execution_count": 2,
     "metadata": {},
     "output_type": "execute_result"
    }
   ],
   "source": [
    "def load_data(csv_file='marketing_AB.csv', pickle_file='marketing_AB.pkl'):\n",
    "    \"\"\"\n",
    "    Loads the dataset efficiently using caching.\n",
    "    If a cached Pickle file exists, it loads from there; otherwise, it reads from CSV and caches it.\n",
    "    \"\"\"\n",
    "    if os.path.exists(pickle_file):\n",
    "        print(\"Loading from cached Pickle file...\")\n",
    "        df = pd.read_pickle(pickle_file)\n",
    "    else:\n",
    "        print(\"Loading from CSV and caching...\")\n",
    "        df = pd.read_csv(csv_file)\n",
    "        df.to_pickle(pickle_file)  # Cache the dataset\n",
    "    return df\n",
    "\n",
    "df = load_data()\n",
    "print(df.head())  \n",
    "df.shape"
   ]
  },
  {
   "cell_type": "markdown",
   "id": "f3a15194",
   "metadata": {},
   "source": [
    "### Data Cleaning and Feature Engineering"
   ]
  },
  {
   "cell_type": "code",
   "execution_count": 3,
   "id": "f06aca94",
   "metadata": {},
   "outputs": [
    {
     "data": {
      "text/plain": [
       "Unnamed: 0       0\n",
       "user id          0\n",
       "test group       0\n",
       "converted        0\n",
       "total ads        0\n",
       "most ads day     0\n",
       "most ads hour    0\n",
       "dtype: int64"
      ]
     },
     "execution_count": 3,
     "metadata": {},
     "output_type": "execute_result"
    }
   ],
   "source": [
    "df.isnull().sum()"
   ]
  },
  {
   "cell_type": "code",
   "execution_count": 4,
   "id": "dc2d31d7",
   "metadata": {},
   "outputs": [
    {
     "data": {
      "text/plain": [
       "0"
      ]
     },
     "execution_count": 4,
     "metadata": {},
     "output_type": "execute_result"
    }
   ],
   "source": [
    "df.duplicated().sum()"
   ]
  },
  {
   "cell_type": "code",
   "execution_count": 5,
   "id": "bda98a9c",
   "metadata": {},
   "outputs": [],
   "source": [
    "df['converted'] = df['converted'].astype(int) "
   ]
  },
  {
   "cell_type": "code",
   "execution_count": 6,
   "id": "553036d3",
   "metadata": {},
   "outputs": [],
   "source": [
    "df['conversion_rate'] = df['converted'] / df['total ads']"
   ]
  },
  {
   "cell_type": "code",
   "execution_count": 7,
   "id": "f49129ba",
   "metadata": {},
   "outputs": [
    {
     "name": "stdout",
     "output_type": "stream",
     "text": [
      "Average Conversion Rate for 'ad' Group: 0.0009235262133625706\n"
     ]
    }
   ],
   "source": [
    "conversion_rate_ad = df[df['test group'] == 'ad']['conversion_rate'].mean()\n",
    "print(\"Average Conversion Rate for 'ad' Group:\", conversion_rate_ad)"
   ]
  },
  {
   "cell_type": "markdown",
   "id": "5a7ed543",
   "metadata": {},
   "source": [
    "The 'ad' group's conversion rate of 0.00092 is low, meaning only a small fraction of users are converting. This indicates potential inefficiencies in the ad campaign that may require optimization."
   ]
  },
  {
   "cell_type": "code",
   "execution_count": 8,
   "id": "2429bb74",
   "metadata": {},
   "outputs": [
    {
     "data": {
      "text/html": [
       "<div>\n",
       "<style scoped>\n",
       "    .dataframe tbody tr th:only-of-type {\n",
       "        vertical-align: middle;\n",
       "    }\n",
       "\n",
       "    .dataframe tbody tr th {\n",
       "        vertical-align: top;\n",
       "    }\n",
       "\n",
       "    .dataframe thead th {\n",
       "        text-align: right;\n",
       "    }\n",
       "</style>\n",
       "<table border=\"1\" class=\"dataframe\">\n",
       "  <thead>\n",
       "    <tr style=\"text-align: right;\">\n",
       "      <th></th>\n",
       "      <th>Unnamed: 0</th>\n",
       "      <th>user id</th>\n",
       "      <th>test group</th>\n",
       "      <th>converted</th>\n",
       "      <th>total ads</th>\n",
       "      <th>most ads day</th>\n",
       "      <th>most ads hour</th>\n",
       "      <th>conversion_rate</th>\n",
       "    </tr>\n",
       "  </thead>\n",
       "  <tbody>\n",
       "    <tr>\n",
       "      <th>0</th>\n",
       "      <td>0</td>\n",
       "      <td>1069124</td>\n",
       "      <td>ad</td>\n",
       "      <td>0</td>\n",
       "      <td>130</td>\n",
       "      <td>Monday</td>\n",
       "      <td>20</td>\n",
       "      <td>0.0</td>\n",
       "    </tr>\n",
       "    <tr>\n",
       "      <th>1</th>\n",
       "      <td>1</td>\n",
       "      <td>1119715</td>\n",
       "      <td>ad</td>\n",
       "      <td>0</td>\n",
       "      <td>93</td>\n",
       "      <td>Tuesday</td>\n",
       "      <td>22</td>\n",
       "      <td>0.0</td>\n",
       "    </tr>\n",
       "    <tr>\n",
       "      <th>2</th>\n",
       "      <td>2</td>\n",
       "      <td>1144181</td>\n",
       "      <td>ad</td>\n",
       "      <td>0</td>\n",
       "      <td>21</td>\n",
       "      <td>Tuesday</td>\n",
       "      <td>18</td>\n",
       "      <td>0.0</td>\n",
       "    </tr>\n",
       "    <tr>\n",
       "      <th>3</th>\n",
       "      <td>3</td>\n",
       "      <td>1435133</td>\n",
       "      <td>ad</td>\n",
       "      <td>0</td>\n",
       "      <td>355</td>\n",
       "      <td>Tuesday</td>\n",
       "      <td>10</td>\n",
       "      <td>0.0</td>\n",
       "    </tr>\n",
       "    <tr>\n",
       "      <th>4</th>\n",
       "      <td>4</td>\n",
       "      <td>1015700</td>\n",
       "      <td>ad</td>\n",
       "      <td>0</td>\n",
       "      <td>276</td>\n",
       "      <td>Friday</td>\n",
       "      <td>14</td>\n",
       "      <td>0.0</td>\n",
       "    </tr>\n",
       "  </tbody>\n",
       "</table>\n",
       "</div>"
      ],
      "text/plain": [
       "   Unnamed: 0  user id test group  converted  total ads most ads day  \\\n",
       "0           0  1069124         ad          0        130       Monday   \n",
       "1           1  1119715         ad          0         93      Tuesday   \n",
       "2           2  1144181         ad          0         21      Tuesday   \n",
       "3           3  1435133         ad          0        355      Tuesday   \n",
       "4           4  1015700         ad          0        276       Friday   \n",
       "\n",
       "   most ads hour  conversion_rate  \n",
       "0             20              0.0  \n",
       "1             22              0.0  \n",
       "2             18              0.0  \n",
       "3             10              0.0  \n",
       "4             14              0.0  "
      ]
     },
     "execution_count": 8,
     "metadata": {},
     "output_type": "execute_result"
    }
   ],
   "source": [
    "df.head()"
   ]
  },
  {
   "cell_type": "markdown",
   "id": "948a5d88",
   "metadata": {},
   "source": [
    "### Descriptive Statistics"
   ]
  },
  {
   "cell_type": "code",
   "execution_count": 9,
   "id": "0bd179b7",
   "metadata": {},
   "outputs": [
    {
     "data": {
      "text/html": [
       "<div>\n",
       "<style scoped>\n",
       "    .dataframe tbody tr th:only-of-type {\n",
       "        vertical-align: middle;\n",
       "    }\n",
       "\n",
       "    .dataframe tbody tr th {\n",
       "        vertical-align: top;\n",
       "    }\n",
       "\n",
       "    .dataframe thead th {\n",
       "        text-align: right;\n",
       "    }\n",
       "</style>\n",
       "<table border=\"1\" class=\"dataframe\">\n",
       "  <thead>\n",
       "    <tr style=\"text-align: right;\">\n",
       "      <th></th>\n",
       "      <th>Unnamed: 0</th>\n",
       "      <th>user id</th>\n",
       "      <th>converted</th>\n",
       "      <th>total ads</th>\n",
       "      <th>most ads hour</th>\n",
       "      <th>conversion_rate</th>\n",
       "    </tr>\n",
       "  </thead>\n",
       "  <tbody>\n",
       "    <tr>\n",
       "      <th>count</th>\n",
       "      <td>588101.000000</td>\n",
       "      <td>5.881010e+05</td>\n",
       "      <td>588101.000000</td>\n",
       "      <td>588101.000000</td>\n",
       "      <td>588101.000000</td>\n",
       "      <td>588101.000000</td>\n",
       "    </tr>\n",
       "    <tr>\n",
       "      <th>mean</th>\n",
       "      <td>294050.000000</td>\n",
       "      <td>1.310692e+06</td>\n",
       "      <td>0.025239</td>\n",
       "      <td>24.820876</td>\n",
       "      <td>14.469061</td>\n",
       "      <td>0.000920</td>\n",
       "    </tr>\n",
       "    <tr>\n",
       "      <th>std</th>\n",
       "      <td>169770.279667</td>\n",
       "      <td>2.022260e+05</td>\n",
       "      <td>0.156850</td>\n",
       "      <td>43.715181</td>\n",
       "      <td>4.834634</td>\n",
       "      <td>0.015811</td>\n",
       "    </tr>\n",
       "    <tr>\n",
       "      <th>min</th>\n",
       "      <td>0.000000</td>\n",
       "      <td>9.000000e+05</td>\n",
       "      <td>0.000000</td>\n",
       "      <td>1.000000</td>\n",
       "      <td>0.000000</td>\n",
       "      <td>0.000000</td>\n",
       "    </tr>\n",
       "    <tr>\n",
       "      <th>25%</th>\n",
       "      <td>147025.000000</td>\n",
       "      <td>1.143190e+06</td>\n",
       "      <td>0.000000</td>\n",
       "      <td>4.000000</td>\n",
       "      <td>11.000000</td>\n",
       "      <td>0.000000</td>\n",
       "    </tr>\n",
       "    <tr>\n",
       "      <th>50%</th>\n",
       "      <td>294050.000000</td>\n",
       "      <td>1.313725e+06</td>\n",
       "      <td>0.000000</td>\n",
       "      <td>13.000000</td>\n",
       "      <td>14.000000</td>\n",
       "      <td>0.000000</td>\n",
       "    </tr>\n",
       "    <tr>\n",
       "      <th>75%</th>\n",
       "      <td>441075.000000</td>\n",
       "      <td>1.484088e+06</td>\n",
       "      <td>0.000000</td>\n",
       "      <td>27.000000</td>\n",
       "      <td>18.000000</td>\n",
       "      <td>0.000000</td>\n",
       "    </tr>\n",
       "    <tr>\n",
       "      <th>max</th>\n",
       "      <td>588100.000000</td>\n",
       "      <td>1.654483e+06</td>\n",
       "      <td>1.000000</td>\n",
       "      <td>2065.000000</td>\n",
       "      <td>23.000000</td>\n",
       "      <td>1.000000</td>\n",
       "    </tr>\n",
       "  </tbody>\n",
       "</table>\n",
       "</div>"
      ],
      "text/plain": [
       "          Unnamed: 0       user id      converted      total ads  \\\n",
       "count  588101.000000  5.881010e+05  588101.000000  588101.000000   \n",
       "mean   294050.000000  1.310692e+06       0.025239      24.820876   \n",
       "std    169770.279667  2.022260e+05       0.156850      43.715181   \n",
       "min         0.000000  9.000000e+05       0.000000       1.000000   \n",
       "25%    147025.000000  1.143190e+06       0.000000       4.000000   \n",
       "50%    294050.000000  1.313725e+06       0.000000      13.000000   \n",
       "75%    441075.000000  1.484088e+06       0.000000      27.000000   \n",
       "max    588100.000000  1.654483e+06       1.000000    2065.000000   \n",
       "\n",
       "       most ads hour  conversion_rate  \n",
       "count  588101.000000    588101.000000  \n",
       "mean       14.469061         0.000920  \n",
       "std         4.834634         0.015811  \n",
       "min         0.000000         0.000000  \n",
       "25%        11.000000         0.000000  \n",
       "50%        14.000000         0.000000  \n",
       "75%        18.000000         0.000000  \n",
       "max        23.000000         1.000000  "
      ]
     },
     "execution_count": 9,
     "metadata": {},
     "output_type": "execute_result"
    }
   ],
   "source": [
    "df.describe()"
   ]
  },
  {
   "cell_type": "code",
   "execution_count": 12,
   "id": "7c40c760",
   "metadata": {},
   "outputs": [
    {
     "data": {
      "text/html": [
       "<div>\n",
       "<style scoped>\n",
       "    .dataframe tbody tr th:only-of-type {\n",
       "        vertical-align: middle;\n",
       "    }\n",
       "\n",
       "    .dataframe tbody tr th {\n",
       "        vertical-align: top;\n",
       "    }\n",
       "\n",
       "    .dataframe thead th {\n",
       "        text-align: right;\n",
       "    }\n",
       "</style>\n",
       "<table border=\"1\" class=\"dataframe\">\n",
       "  <thead>\n",
       "    <tr style=\"text-align: right;\">\n",
       "      <th></th>\n",
       "      <th>count</th>\n",
       "      <th>mean</th>\n",
       "      <th>std</th>\n",
       "      <th>min</th>\n",
       "      <th>25%</th>\n",
       "      <th>50%</th>\n",
       "      <th>75%</th>\n",
       "      <th>max</th>\n",
       "    </tr>\n",
       "    <tr>\n",
       "      <th>test group</th>\n",
       "      <th></th>\n",
       "      <th></th>\n",
       "      <th></th>\n",
       "      <th></th>\n",
       "      <th></th>\n",
       "      <th></th>\n",
       "      <th></th>\n",
       "      <th></th>\n",
       "    </tr>\n",
       "  </thead>\n",
       "  <tbody>\n",
       "    <tr>\n",
       "      <th>ad</th>\n",
       "      <td>564577.0</td>\n",
       "      <td>0.025547</td>\n",
       "      <td>0.157778</td>\n",
       "      <td>0.0</td>\n",
       "      <td>0.0</td>\n",
       "      <td>0.0</td>\n",
       "      <td>0.0</td>\n",
       "      <td>1.0</td>\n",
       "    </tr>\n",
       "    <tr>\n",
       "      <th>psa</th>\n",
       "      <td>23524.0</td>\n",
       "      <td>0.017854</td>\n",
       "      <td>0.132424</td>\n",
       "      <td>0.0</td>\n",
       "      <td>0.0</td>\n",
       "      <td>0.0</td>\n",
       "      <td>0.0</td>\n",
       "      <td>1.0</td>\n",
       "    </tr>\n",
       "  </tbody>\n",
       "</table>\n",
       "</div>"
      ],
      "text/plain": [
       "               count      mean       std  min  25%  50%  75%  max\n",
       "test group                                                       \n",
       "ad          564577.0  0.025547  0.157778  0.0  0.0  0.0  0.0  1.0\n",
       "psa          23524.0  0.017854  0.132424  0.0  0.0  0.0  0.0  1.0"
      ]
     },
     "execution_count": 12,
     "metadata": {},
     "output_type": "execute_result"
    }
   ],
   "source": [
    "df.groupby(by='test group')[\"converted\"].describe()"
   ]
  },
  {
   "cell_type": "code",
   "execution_count": 13,
   "id": "5257465e",
   "metadata": {},
   "outputs": [
    {
     "data": {
      "text/html": [
       "<div>\n",
       "<style scoped>\n",
       "    .dataframe tbody tr th:only-of-type {\n",
       "        vertical-align: middle;\n",
       "    }\n",
       "\n",
       "    .dataframe tbody tr th {\n",
       "        vertical-align: top;\n",
       "    }\n",
       "\n",
       "    .dataframe thead th {\n",
       "        text-align: right;\n",
       "    }\n",
       "</style>\n",
       "<table border=\"1\" class=\"dataframe\">\n",
       "  <thead>\n",
       "    <tr style=\"text-align: right;\">\n",
       "      <th></th>\n",
       "      <th>count</th>\n",
       "      <th>mean</th>\n",
       "      <th>std</th>\n",
       "      <th>min</th>\n",
       "      <th>25%</th>\n",
       "      <th>50%</th>\n",
       "      <th>75%</th>\n",
       "      <th>max</th>\n",
       "    </tr>\n",
       "    <tr>\n",
       "      <th>test group</th>\n",
       "      <th></th>\n",
       "      <th></th>\n",
       "      <th></th>\n",
       "      <th></th>\n",
       "      <th></th>\n",
       "      <th></th>\n",
       "      <th></th>\n",
       "      <th></th>\n",
       "    </tr>\n",
       "  </thead>\n",
       "  <tbody>\n",
       "    <tr>\n",
       "      <th>ad</th>\n",
       "      <td>564577.0</td>\n",
       "      <td>24.823365</td>\n",
       "      <td>43.750456</td>\n",
       "      <td>1.0</td>\n",
       "      <td>4.0</td>\n",
       "      <td>13.0</td>\n",
       "      <td>27.0</td>\n",
       "      <td>2065.0</td>\n",
       "    </tr>\n",
       "    <tr>\n",
       "      <th>psa</th>\n",
       "      <td>23524.0</td>\n",
       "      <td>24.761138</td>\n",
       "      <td>42.860720</td>\n",
       "      <td>1.0</td>\n",
       "      <td>4.0</td>\n",
       "      <td>12.0</td>\n",
       "      <td>26.0</td>\n",
       "      <td>907.0</td>\n",
       "    </tr>\n",
       "  </tbody>\n",
       "</table>\n",
       "</div>"
      ],
      "text/plain": [
       "               count       mean        std  min  25%   50%   75%     max\n",
       "test group                                                              \n",
       "ad          564577.0  24.823365  43.750456  1.0  4.0  13.0  27.0  2065.0\n",
       "psa          23524.0  24.761138  42.860720  1.0  4.0  12.0  26.0   907.0"
      ]
     },
     "execution_count": 13,
     "metadata": {},
     "output_type": "execute_result"
    }
   ],
   "source": [
    "df.groupby(by='test group')[\"total ads\"].describe()"
   ]
  },
  {
   "cell_type": "code",
   "execution_count": 14,
   "id": "4245b5fc",
   "metadata": {},
   "outputs": [
    {
     "name": "stdout",
     "output_type": "stream",
     "text": [
      "(588101, 8)\n",
      "(588101, 8)\n"
     ]
    }
   ],
   "source": [
    "print(df.shape)\n",
    "df.dropna(subset=['total ads'], inplace=True)\n",
    "print(df.shape)"
   ]
  },
  {
   "cell_type": "code",
   "execution_count": 15,
   "id": "499bac20",
   "metadata": {},
   "outputs": [
    {
     "name": "stdout",
     "output_type": "stream",
     "text": [
      "<class 'pandas.core.frame.DataFrame'>\n",
      "RangeIndex: 588101 entries, 0 to 588100\n",
      "Data columns (total 8 columns):\n",
      " #   Column           Non-Null Count   Dtype  \n",
      "---  ------           --------------   -----  \n",
      " 0   Unnamed: 0       588101 non-null  int64  \n",
      " 1   user id          588101 non-null  int64  \n",
      " 2   test group       588101 non-null  object \n",
      " 3   converted        588101 non-null  int32  \n",
      " 4   total ads        588101 non-null  int64  \n",
      " 5   most ads day     588101 non-null  object \n",
      " 6   most ads hour    588101 non-null  int64  \n",
      " 7   conversion_rate  588101 non-null  float64\n",
      "dtypes: float64(1), int32(1), int64(4), object(2)\n",
      "memory usage: 33.7+ MB\n"
     ]
    }
   ],
   "source": [
    "df.info()"
   ]
  },
  {
   "cell_type": "code",
   "execution_count": 19,
   "id": "dea6fee9",
   "metadata": {},
   "outputs": [
    {
     "name": "stdout",
     "output_type": "stream",
     "text": [
      "Ad group size: (564577, 8)\n",
      "PSA group size: (23524, 8)\n"
     ]
    }
   ],
   "source": [
    "# Split the data into two groups: ad and psa\n",
    "ad_group = df[df['test group'] == 'ad']\n",
    "psa_group = df[df['test group'] == 'psa']\n",
    "\n",
    "# Verify the size of each group\n",
    "print(\"Ad group size:\", ad_group.shape)\n",
    "print(\"PSA group size:\", psa_group.shape)"
   ]
  },
  {
   "cell_type": "code",
   "execution_count": 20,
   "id": "e20eae78",
   "metadata": {},
   "outputs": [
    {
     "name": "stdout",
     "output_type": "stream",
     "text": [
      "Conversion Rate for 'ad' Group: 0.0255\n",
      "Conversion Rate for 'PSA' Group: 0.0179\n"
     ]
    }
   ],
   "source": [
    "# Calculate conversion rates for ad and psa groups\n",
    "conversion_rate_ad = ad_group['converted'].mean()\n",
    "conversion_rate_psa = psa_group['converted'].mean()\n",
    "\n",
    "print(f\"Conversion Rate for 'ad' Group: {conversion_rate_ad:.4f}\")\n",
    "print(f\"Conversion Rate for 'PSA' Group: {conversion_rate_psa:.4f}\")"
   ]
  },
  {
   "cell_type": "markdown",
   "id": "f757042a",
   "metadata": {},
   "source": [
    "- The 'ad' group has more users (564,577 vs 23,524) and a higher conversion rate (0.0255 vs 0.0179). This shows that the 'ad' campaign is more successful in driving user action than the PSA campaign."
   ]
  },
  {
   "cell_type": "markdown",
   "id": "03a8949b",
   "metadata": {},
   "source": [
    "### Hypothesis Testing\n",
    "\n",
    "#### Null Hypothesis\n",
    "- Null Hypothesis (H0): The test groups (ad vs. control) show no difference in conversion rates.\n",
    "- Alternative Hypothesis (H1): The test groups (ad vs. control) show a significant difference in conversion rates."
   ]
  },
  {
   "cell_type": "code",
   "execution_count": 21,
   "id": "89fc7ce4",
   "metadata": {},
   "outputs": [
    {
     "name": "stdout",
     "output_type": "stream",
     "text": [
      "T-statistic: 7.37040597428566\n",
      "P-value: 1.7033052627831264e-13\n",
      "Reject the null hypothesis: Significant difference in conversion rates.\n"
     ]
    }
   ],
   "source": [
    "t_stat, p_value = stats.ttest_ind(ad_group['converted'], psa_group['converted'])\n",
    "\n",
    "# Output the t-statistic and p-value\n",
    "print(\"T-statistic:\", t_stat)\n",
    "print(\"P-value:\", p_value)\n",
    "\n",
    "if p_value < 0.05:\n",
    "    print(\"Reject the null hypothesis: Significant difference in conversion rates.\")\n",
    "else:\n",
    "    print(\"Fail to reject the null hypothesis: No significant difference in conversion rates.\")"
   ]
  },
  {
   "cell_type": "markdown",
   "id": "910f15e8",
   "metadata": {},
   "source": [
    "The T-statistic is 7.37, and the p-value is extremely small (1.7e-13). As the p-value is less than 0.05, we reject the null hypothesis and conclude there is a significant difference in conversion rates."
   ]
  },
  {
   "cell_type": "markdown",
   "id": "835d21fb",
   "metadata": {},
   "source": [
    "### Data Visualization"
   ]
  },
  {
   "cell_type": "code",
   "execution_count": 22,
   "id": "fdbe131f",
   "metadata": {},
   "outputs": [
    {
     "data": {
      "image/png": "[encoded data removed]",
      "text/plain": [
       "<Figure size 600x400 with 1 Axes>"
      ]
     },
     "metadata": {},
     "output_type": "display_data"
    }
   ],
   "source": [
    "conversion_rates = [conversion_rate_ad, conversion_rate_psa]\n",
    "groups = ['Ad Group', 'PSA Group']\n",
    "\n",
    "plt.figure(figsize=(6, 4))\n",
    "plt.bar(groups, conversion_rates, color=['blue', 'green'], alpha=0.7)\n",
    "plt.title(\"Conversion Rates for Ad and PSA Groups\")\n",
    "plt.xlabel(\"Test Group\")\n",
    "plt.ylabel(\"Conversion Rate\")\n",
    "plt.show()"
   ]
  },
  {
   "cell_type": "code",
   "execution_count": 27,
   "id": "d3576e35",
   "metadata": {},
   "outputs": [
    {
     "data": {
      "image/png": "[encoded data removed]",
      "text/plain": [
       "<Figure size 1000x600 with 1 Axes>"
      ]
     },
     "metadata": {},
     "output_type": "display_data"
    }
   ],
   "source": [
    "# Group by most ads hour and calculate the mean conversion rate\n",
    "conversion_by_hour = df.groupby('most ads hour')['converted'].mean().reset_index()\n",
    "\n",
    "# Plot the conversion rates by hour\n",
    "plt.figure(figsize=(10, 6))\n",
    "sns.barplot(x='most ads hour', y='converted', data=conversion_by_hour, palette='viridis')\n",
    "plt.title('Conversion Rates by Most Ads Hour')\n",
    "plt.xlabel('Most Ads Hour')\n",
    "plt.ylabel('Average Conversion Rate')\n",
    "plt.show()"
   ]
  },
  {
   "cell_type": "markdown",
   "id": "9031bdf9",
   "metadata": {},
   "source": [
    "### Logistic Regression Model"
   ]
  },
  {
   "cell_type": "code",
   "execution_count": 23,
   "id": "4832b45f",
   "metadata": {},
   "outputs": [
    {
     "name": "stdout",
     "output_type": "stream",
     "text": [
      "              Coefficient\n",
      "total ads        0.010159\n",
      "test group      -0.388269\n",
      "most ads day     0.015424\n"
     ]
    },
    {
     "data": {
      "image/png": "[encoded data removed]",
      "text/plain": [
       "<Figure size 800x600 with 1 Axes>"
      ]
     },
     "metadata": {},
     "output_type": "display_data"
    }
   ],
   "source": [
    "# Encode categorical variables\n",
    "label_encoder = LabelEncoder()\n",
    "df['test group'] = label_encoder.fit_transform(df['test group'])\n",
    "df['most ads day'] = label_encoder.fit_transform(df['most ads day'])\n",
    "\n",
    "# Features: Total Ads, Test Group, Most Ads Day\n",
    "X = df[['total ads', 'test group', 'most ads day']]\n",
    "y = df['converted']\n",
    "\n",
    "# Fit logistic regression model\n",
    "logreg = LogisticRegression()\n",
    "logreg.fit(X, y)\n",
    "\n",
    "# Get model coefficients\n",
    "coefficients = pd.DataFrame(logreg.coef_.T, index=X.columns, columns=['Coefficient'])\n",
    "print(coefficients)\n",
    "\n",
    "# Predict probabilities\n",
    "df['predicted_prob'] = logreg.predict_proba(X)[:, 1]\n",
    "\n",
    "# Plot predicted probabilities vs actual conversion rates\n",
    "plt.figure(figsize=(8, 6))\n",
    "plt.scatter(df['total ads'], df['predicted_prob'], c=df['test group'], cmap='coolwarm', alpha=0.5)\n",
    "plt.title(\"Predicted Conversion Probabilities vs Total Ads Seen\")\n",
    "plt.xlabel(\"Total Ads Seen\")\n",
    "plt.ylabel(\"Predicted Conversion Probability\")\n",
    "plt.show()"
   ]
  },
  {
   "cell_type": "markdown",
   "id": "e784047c",
   "metadata": {},
   "source": [
    "- The coefficients from the logistic regression model indicate the impact of each feature. The plot shows the predicted conversion probabilities versus the number of ads seen."
   ]
  },
  {
   "cell_type": "markdown",
   "id": "2329dd8c",
   "metadata": {},
   "source": [
    "### Power Analysis\n",
    "- Power analysis is performed to evaluate the sensitivity of the test and ensure it is capable of detecting a significant effect, if present."
   ]
  },
  {
   "cell_type": "code",
   "execution_count": 25,
   "id": "d0f7fd99",
   "metadata": {},
   "outputs": [
    {
     "name": "stdout",
     "output_type": "stream",
     "text": [
      "Power of the test: 0.9404271933839895\n"
     ]
    }
   ],
   "source": [
    "# Using statsmodels to compute power analysis\n",
    "from statsmodels.stats.power import TTestIndPower\n",
    "analysis = TTestIndPower()\n",
    "power = analysis.power(effect_size=0.5, nobs1=100, ratio=1, alpha=0.05)\n",
    "print(\"Power of the test:\", power)"
   ]
  },
  {
   "cell_type": "markdown",
   "id": "089ea09c",
   "metadata": {},
   "source": [
    "- The power of the test is calculated to be 0.94, which indicates a high likelihood of detecting a significant difference in conversion rates if one exists."
   ]
  },
  {
   "cell_type": "code",
   "execution_count": null,
   "id": "8074b97e",
   "metadata": {},
   "outputs": [],
   "source": []
  }
 ],
 "metadata": {
  "kernelspec": {
   "display_name": "Python 3 (ipykernel)",
   "language": "python",
   "name": "python3"
  },
  "language_info": {
   "codemirror_mode": {
    "name": "ipython",
    "version": 3
   },
   "file_extension": ".py",
   "mimetype": "text/x-python",
   "name": "python",
   "nbconvert_exporter": "python",
   "pygments_lexer": "ipython3",
   "version": "3.11.5"
  }
 },
 "nbformat": 4,
 "nbformat_minor": 5
}
